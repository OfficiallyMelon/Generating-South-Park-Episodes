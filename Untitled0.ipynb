{
  "nbformat": 4,
  "nbformat_minor": 0,
  "metadata": {
    "colab": {
      "provenance": [],
      "gpuType": "T4"
    },
    "kernelspec": {
      "name": "python3",
      "display_name": "Python 3"
    },
    "language_info": {
      "name": "python"
    },
    "accelerator": "GPU"
  },
  "cells": [
    {
      "cell_type": "code",
      "execution_count": 2,
      "metadata": {
        "colab": {
          "base_uri": "https://localhost:8080/"
        },
        "id": "Byz5b9tTJdau",
        "outputId": "1a9711ea-cb9f-4af2-e5ab-7fb3ad8ff36e"
      },
      "outputs": [
        {
          "output_type": "stream",
          "name": "stdout",
          "text": [
            "fatal: destination path 'Generating-South-Park-Episodes' already exists and is not an empty directory.\n"
          ]
        }
      ],
      "source": [
        "!git clone https://github.com/OfficiallyMelon/Generating-South-Park-Episodes.git"
      ]
    },
    {
      "cell_type": "code",
      "source": [
        "!cd Generating-South-Park-Episodes && python preload.txt"
      ],
      "metadata": {
        "colab": {
          "base_uri": "https://localhost:8080/"
        },
        "id": "-uTJaFhuJhvu",
        "outputId": "10d8355f-cc23-484c-f5fe-c38a20e2c2ad"
      },
      "execution_count": 3,
      "outputs": [
        {
          "output_type": "stream",
          "name": "stdout",
          "text": [
            "2024-05-23 01:47:18,415 - INFO - 🤗 Starting download Huggingface model from url: https://huggingface.co/api/models/openai-community/gpt2/tree/main\n",
            "./gpt2/onnx/onnx/config.json: 100% 879/879 [00:00<00:00, 6.78MB/s]\n",
            "2024-05-23 01:47:19,093 - INFO - ✅ Download Completed [./gpt2/onnx/onnx/config.json]\n",
            "./gpt2/onnx/onnx/decoder_model.onnx: 100% 623M/623M [00:06<00:00, 97.4MB/s]\n",
            "2024-05-23 01:47:26,031 - INFO - ✅ Download Completed [./gpt2/onnx/onnx/decoder_model.onnx]\n",
            "./gpt2/onnx/onnx/decoder_model_merged.onnx: 100% 625M/625M [00:03<00:00, 173MB/s]\n",
            "2024-05-23 01:47:30,250 - INFO - ✅ Download Completed [./gpt2/onnx/onnx/decoder_model_merged.onnx]\n",
            "./gpt2/onnx/onnx/decoder_with_past_model.onnx: 100% 623M/623M [00:03<00:00, 166MB/s]\n",
            "2024-05-23 01:47:34,422 - INFO - ✅ Download Completed [./gpt2/onnx/onnx/decoder_with_past_model.onnx]\n",
            "./gpt2/onnx/onnx/generation_config.json: 100% 119/119 [00:00<00:00, 749kB/s]\n",
            "2024-05-23 01:47:34,597 - INFO - ✅ Download Completed [./gpt2/onnx/onnx/generation_config.json]\n",
            "./gpt2/onnx/onnx/merges.txt: 100% 446k/446k [00:00<00:00, 10.1MB/s]\n",
            "2024-05-23 01:47:34,820 - INFO - ✅ Download Completed [./gpt2/onnx/onnx/merges.txt]\n",
            "./gpt2/onnx/onnx/special_tokens_map.json: 100% 99.0/99.0 [00:00<00:00, 685kB/s]\n",
            "2024-05-23 01:47:35,038 - INFO - ✅ Download Completed [./gpt2/onnx/onnx/special_tokens_map.json]\n",
            "./gpt2/onnx/onnx/tokenizer.json: 100% 2.01M/2.01M [00:00<00:00, 24.8MB/s]\n",
            "2024-05-23 01:47:35,275 - INFO - ✅ Download Completed [./gpt2/onnx/onnx/tokenizer.json]\n",
            "./gpt2/onnx/onnx/tokenizer_config.json: 100% 234/234 [00:00<00:00, 1.18MB/s]\n",
            "2024-05-23 01:47:35,412 - INFO - ✅ Download Completed [./gpt2/onnx/onnx/tokenizer_config.json]\n",
            "./gpt2/onnx/onnx/vocab.json: 100% 779k/779k [00:00<00:00, 14.7MB/s]\n",
            "2024-05-23 01:47:35,595 - INFO - ✅ Download Completed [./gpt2/onnx/onnx/vocab.json]\n",
            "./gpt2/.gitattributes: 100% 445/445 [00:00<00:00, 3.76MB/s]\n",
            "2024-05-23 01:47:35,770 - INFO - ✅ Download Completed [./gpt2/.gitattributes]\n",
            "./gpt2/64-8bits.tflite: 100% 119M/119M [00:00<00:00, 197MB/s]\n",
            "2024-05-23 01:47:36,635 - INFO - ✅ Download Completed [./gpt2/64-8bits.tflite]\n",
            "./gpt2/64-fp16.tflite: 100% 237M/237M [00:01<00:00, 201MB/s]\n",
            "2024-05-23 01:47:38,124 - INFO - ✅ Download Completed [./gpt2/64-fp16.tflite]\n",
            "./gpt2/64.tflite: 100% 473M/473M [00:02<00:00, 202MB/s]\n",
            "2024-05-23 01:47:40,801 - INFO - ✅ Download Completed [./gpt2/64.tflite]\n",
            "./gpt2/README.md: 100% 7.90k/7.90k [00:00<00:00, 43.5MB/s]\n",
            "2024-05-23 01:47:40,948 - INFO - ✅ Download Completed [./gpt2/README.md]\n",
            "./gpt2/config.json: 100% 665/665 [00:00<00:00, 5.29MB/s]\n",
            "2024-05-23 01:47:41,076 - INFO - ✅ Download Completed [./gpt2/config.json]\n",
            "./gpt2/flax_model.msgpack: 100% 475M/475M [00:06<00:00, 80.7MB/s]\n",
            "2024-05-23 01:47:47,474 - INFO - ✅ Download Completed [./gpt2/flax_model.msgpack]\n",
            "./gpt2/generation_config.json: 100% 124/124 [00:00<00:00, 1.05MB/s]\n",
            "2024-05-23 01:47:47,659 - INFO - ✅ Download Completed [./gpt2/generation_config.json]\n",
            "./gpt2/merges.txt: 100% 446k/446k [00:00<00:00, 9.70MB/s]\n",
            "2024-05-23 01:47:47,835 - INFO - ✅ Download Completed [./gpt2/merges.txt]\n",
            "./gpt2/model.safetensors: 100% 523M/523M [00:02<00:00, 195MB/s]\n",
            "2024-05-23 01:47:50,925 - INFO - ✅ Download Completed [./gpt2/model.safetensors]\n",
            "./gpt2/pytorch_model.bin: 100% 523M/523M [00:06<00:00, 90.8MB/s]\n",
            "2024-05-23 01:47:57,207 - INFO - ✅ Download Completed [./gpt2/pytorch_model.bin]\n",
            "./gpt2/rust_model.ot: 100% 670M/670M [00:04<00:00, 174MB/s]\n",
            "2024-05-23 01:48:01,555 - INFO - ✅ Download Completed [./gpt2/rust_model.ot]\n",
            "./gpt2/tf_model.h5: 100% 475M/475M [00:02<00:00, 178MB/s]\n",
            "2024-05-23 01:48:04,598 - INFO - ✅ Download Completed [./gpt2/tf_model.h5]\n",
            "./gpt2/tokenizer.json: 100% 1.29M/1.29M [00:00<00:00, 21.2MB/s]\n",
            "2024-05-23 01:48:04,794 - INFO - ✅ Download Completed [./gpt2/tokenizer.json]\n",
            "./gpt2/tokenizer_config.json: 100% 26.0/26.0 [00:00<00:00, 201kB/s]\n",
            "2024-05-23 01:48:04,938 - INFO - ✅ Download Completed [./gpt2/tokenizer_config.json]\n",
            "./gpt2/vocab.json: 100% 0.99M/0.99M [00:00<00:00, 13.8MB/s]\n",
            "2024-05-23 01:48:05,144 - INFO - ✅ Download Completed [./gpt2/vocab.json]\n"
          ]
        }
      ]
    },
    {
      "cell_type": "code",
      "source": [
        "!mv Generating-South-Park-Episodes/gpt2 Generating-South-Park-Episodes/AI"
      ],
      "metadata": {
        "id": "T6JfGw6BGrJs"
      },
      "execution_count": 4,
      "outputs": []
    },
    {
      "cell_type": "code",
      "source": [
        "pip install accelerate -U && pip install datasets"
      ],
      "metadata": {
        "colab": {
          "base_uri": "https://localhost:8080/"
        },
        "id": "3YCQdLN7KXYN",
        "outputId": "18b6d437-2f94-4887-9094-78cf32024432"
      },
      "execution_count": null,
      "outputs": [
        {
          "output_type": "stream",
          "name": "stdout",
          "text": [
            "Collecting accelerate\n",
            "  Downloading accelerate-0.30.1-py3-none-any.whl (302 kB)\n",
            "\u001b[2K     \u001b[90m━━━━━━━━━━━━━━━━━━━━━━━━━━━━━━━━━━━━━━━━\u001b[0m \u001b[32m302.6/302.6 kB\u001b[0m \u001b[31m2.1 MB/s\u001b[0m eta \u001b[36m0:00:00\u001b[0m\n",
            "\u001b[?25hRequirement already satisfied: numpy>=1.17 in /usr/local/lib/python3.10/dist-packages (from accelerate) (1.25.2)\n",
            "Requirement already satisfied: packaging>=20.0 in /usr/local/lib/python3.10/dist-packages (from accelerate) (24.0)\n",
            "Requirement already satisfied: psutil in /usr/local/lib/python3.10/dist-packages (from accelerate) (5.9.5)\n",
            "Requirement already satisfied: pyyaml in /usr/local/lib/python3.10/dist-packages (from accelerate) (6.0.1)\n",
            "Requirement already satisfied: torch>=1.10.0 in /usr/local/lib/python3.10/dist-packages (from accelerate) (2.3.0+cu121)\n",
            "Requirement already satisfied: huggingface-hub in /usr/local/lib/python3.10/dist-packages (from accelerate) (0.23.0)\n",
            "Requirement already satisfied: safetensors>=0.3.1 in /usr/local/lib/python3.10/dist-packages (from accelerate) (0.4.3)\n",
            "Requirement already satisfied: filelock in /usr/local/lib/python3.10/dist-packages (from torch>=1.10.0->accelerate) (3.14.0)\n",
            "Requirement already satisfied: typing-extensions>=4.8.0 in /usr/local/lib/python3.10/dist-packages (from torch>=1.10.0->accelerate) (4.11.0)\n",
            "Requirement already satisfied: sympy in /usr/local/lib/python3.10/dist-packages (from torch>=1.10.0->accelerate) (1.12)\n",
            "Requirement already satisfied: networkx in /usr/local/lib/python3.10/dist-packages (from torch>=1.10.0->accelerate) (3.3)\n",
            "Requirement already satisfied: jinja2 in /usr/local/lib/python3.10/dist-packages (from torch>=1.10.0->accelerate) (3.1.4)\n",
            "Requirement already satisfied: fsspec in /usr/local/lib/python3.10/dist-packages (from torch>=1.10.0->accelerate) (2023.6.0)\n",
            "Collecting nvidia-cuda-nvrtc-cu12==12.1.105 (from torch>=1.10.0->accelerate)\n",
            "  Using cached nvidia_cuda_nvrtc_cu12-12.1.105-py3-none-manylinux1_x86_64.whl (23.7 MB)\n",
            "Collecting nvidia-cuda-runtime-cu12==12.1.105 (from torch>=1.10.0->accelerate)\n",
            "  Using cached nvidia_cuda_runtime_cu12-12.1.105-py3-none-manylinux1_x86_64.whl (823 kB)\n",
            "Collecting nvidia-cuda-cupti-cu12==12.1.105 (from torch>=1.10.0->accelerate)\n",
            "  Using cached nvidia_cuda_cupti_cu12-12.1.105-py3-none-manylinux1_x86_64.whl (14.1 MB)\n",
            "Collecting nvidia-cudnn-cu12==8.9.2.26 (from torch>=1.10.0->accelerate)\n",
            "  Using cached nvidia_cudnn_cu12-8.9.2.26-py3-none-manylinux1_x86_64.whl (731.7 MB)\n",
            "Collecting nvidia-cublas-cu12==12.1.3.1 (from torch>=1.10.0->accelerate)\n"
          ]
        }
      ]
    },
    {
      "cell_type": "code",
      "source": [
        "!cd Generating-South-Park-Episodes && python AI/train.py"
      ],
      "metadata": {
        "id": "x_nbGQhqKG1N"
      },
      "execution_count": null,
      "outputs": []
    },
    {
      "cell_type": "code",
      "source": [
        "!zip -r '/content/ModelFiles.zip' '/content/Generating-South-Park-Episodes/ModelTrained'"
      ],
      "metadata": {
        "id": "arxE1PsSIDS_"
      },
      "execution_count": null,
      "outputs": []
    },
    {
      "cell_type": "code",
      "source": [
        "from google.colab import files\n",
        "\n",
        "files.download(f'/content/ModelFiles.zip')"
      ],
      "metadata": {
        "id": "XXGJpudeHytV"
      },
      "execution_count": null,
      "outputs": []
    }
  ]
}